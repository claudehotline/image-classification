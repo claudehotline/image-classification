{
 "cells": [
  {
   "cell_type": "markdown",
   "metadata": {
    "collapsed": true
   },
   "source": [
    "# Image Classification\n",
    "In this project, you'll classify images from the [CIFAR-10 dataset](https://www.cs.toronto.edu/~kriz/cifar.html).  The dataset consists of airplanes, dogs, cats, and other objects. You'll preprocess the images, then train a convolutional neural network on all the samples. The images need to be normalized and the labels need to be one-hot encoded.  You'll get to apply what you learned and build a convolutional, max pooling, dropout, and fully connected layers.  At the end, you'll get to see your neural network's predictions on the sample images.\n",
    "## Get the Data\n",
    "Run the following cell to download the [CIFAR-10 dataset for python](https://www.cs.toronto.edu/~kriz/cifar-10-python.tar.gz)."
   ]
  },
  {
   "cell_type": "code",
   "execution_count": 1,
   "metadata": {},
   "outputs": [
    {
     "name": "stdout",
     "output_type": "stream",
     "text": [
      "All files found!\n"
     ]
    }
   ],
   "source": [
    "\"\"\"\n",
    "DON'T MODIFY ANYTHING IN THIS CELL THAT IS BELOW THIS LINE\n",
    "\"\"\"\n",
    "from urllib.request import urlretrieve\n",
    "from os.path import isfile, isdir\n",
    "from tqdm import tqdm\n",
    "import problem_unittests as tests\n",
    "import tarfile\n",
    "\n",
    "cifar10_dataset_folder_path = 'cifar-10-batches-py'\n",
    "\n",
    "# Use Floyd's cifar-10 dataset if present\n",
    "floyd_cifar10_location = '/cifar/cifar-10-python.tar.gz'\n",
    "if isfile(floyd_cifar10_location):\n",
    "    tar_gz_path = floyd_cifar10_location\n",
    "else:\n",
    "    tar_gz_path = 'cifar-10-python.tar.gz'\n",
    "\n",
    "class DLProgress(tqdm):\n",
    "    last_block = 0\n",
    "\n",
    "    def hook(self, block_num=1, block_size=1, total_size=None):\n",
    "        self.total = total_size\n",
    "        self.update((block_num - self.last_block) * block_size)\n",
    "        self.last_block = block_num\n",
    "\n",
    "if not isfile(tar_gz_path):\n",
    "    with DLProgress(unit='B', unit_scale=True, miniters=1, desc='CIFAR-10 Dataset') as pbar:\n",
    "        urlretrieve(\n",
    "            'https://www.cs.toronto.edu/~kriz/cifar-10-python.tar.gz',\n",
    "            tar_gz_path,\n",
    "            pbar.hook)\n",
    "\n",
    "if not isdir(cifar10_dataset_folder_path):\n",
    "    with tarfile.open(tar_gz_path) as tar:\n",
    "        tar.extractall()\n",
    "        tar.close()\n",
    "\n",
    "\n",
    "tests.test_folder_path(cifar10_dataset_folder_path)"
   ]
  },
  {
   "cell_type": "markdown",
   "metadata": {},
   "source": [
    "## Explore the Data\n",
    "The dataset is broken into batches to prevent your machine from running out of memory.  The CIFAR-10 dataset consists of 5 batches, named `data_batch_1`, `data_batch_2`, etc.. Each batch contains the labels and images that are one of the following:\n",
    "* airplane\n",
    "* automobile\n",
    "* bird\n",
    "* cat\n",
    "* deer\n",
    "* dog\n",
    "* frog\n",
    "* horse\n",
    "* ship\n",
    "* truck\n",
    "\n",
    "Understanding a dataset is part of making predictions on the data.  Play around with the code cell below by changing the `batch_id` and `sample_id`. The `batch_id` is the id for a batch (1-5). The `sample_id` is the id for a image and label pair in the batch.\n",
    "\n",
    "Ask yourself \"What are all possible labels?\", \"What is the range of values for the image data?\", \"Are the labels in order or random?\".  Answers to questions like these will help you preprocess the data and end up with better predictions."
   ]
  },
  {
   "cell_type": "code",
   "execution_count": 4,
   "metadata": {},
   "outputs": [
    {
     "name": "stdout",
     "output_type": "stream",
     "text": [
      "\n",
      "Stats of batch 3:\n",
      "Samples: 10000\n",
      "Label Counts: {0: 994, 1: 1042, 2: 965, 3: 997, 4: 990, 5: 1029, 6: 978, 7: 1015, 8: 961, 9: 1029}\n",
      "First 20 Labels: [8, 5, 0, 6, 9, 2, 8, 3, 6, 2, 7, 4, 6, 9, 0, 0, 7, 3, 7, 2]\n",
      "\n",
      "Example of Image 301:\n",
      "Image - Min Value: 19 Max Value: 236\n",
      "Image - Shape: (32, 32, 3)\n",
      "Label - Label Id: 3 Name: cat\n"
     ]
    },
    {
     "data": {
      "image/png": "[encoded data removed]",
      "text/plain": [
       "<matplotlib.figure.Figure at 0x1c1ff6cacf8>"
      ]
     },
     "metadata": {
      "image/png": {
       "height": 250,
       "width": 253
      }
     },
     "output_type": "display_data"
    }
   ],
   "source": [
    "%matplotlib inline\n",
    "%config InlineBackend.figure_format = 'retina'\n",
    "\n",
    "import helper\n",
    "import numpy as np\n",
    "\n",
    "# Explore the dataset\n",
    "batch_id = 3\n",
    "sample_id = 301\n",
    "helper.display_stats(cifar10_dataset_folder_path, batch_id, sample_id)"
   ]
  },
  {
   "cell_type": "markdown",
   "metadata": {},
   "source": [
    "## Implement Preprocess Functions\n",
    "### Normalize\n",
    "In the cell below, implement the `normalize` function to take in image data, `x`, and return it as a normalized Numpy array. The values should be in the range of 0 to 1, inclusive.  The return object should be the same shape as `x`."
   ]
  },
  {
   "cell_type": "code",
   "execution_count": 5,
   "metadata": {},
   "outputs": [
    {
     "name": "stdout",
     "output_type": "stream",
     "text": [
      "Tests Passed\n"
     ]
    }
   ],
   "source": [
    "def normalize(x):\n",
    "    \"\"\"\n",
    "    Normalize a list of sample image data in the range of 0 to 1\n",
    "    : x: List of image data.  The image shape is (32, 32, 3)\n",
    "    : return: Numpy array of normalize data\n",
    "    \"\"\"\n",
    "    # TODO: Implement Function\n",
    "    return (x - np.min(x)) / (np.max(x) - np.min(x))\n",
    "\n",
    "\"\"\"\n",
    "DON'T MODIFY ANYTHING IN THIS CELL THAT IS BELOW THIS LINE\n",
    "\"\"\"\n",
    "tests.test_normalize(normalize)"
   ]
  },
  {
   "cell_type": "markdown",
   "metadata": {},
   "source": [
    "### One-hot encode\n",
    "Just like the previous code cell, you'll be implementing a function for preprocessing.  This time, you'll implement the `one_hot_encode` function. The input, `x`, are a list of labels.  Implement the function to return the list of labels as One-Hot encoded Numpy array.  The possible values for labels are 0 to 9. The one-hot encoding function should return the same encoding for each value between each call to `one_hot_encode`.  Make sure to save the map of encodings outside the function.\n",
    "\n",
    "Hint: Don't reinvent the wheel."
   ]
  },
  {
   "cell_type": "code",
   "execution_count": 6,
   "metadata": {},
   "outputs": [
    {
     "name": "stdout",
     "output_type": "stream",
     "text": [
      "Tests Passed\n"
     ]
    }
   ],
   "source": [
    "def one_hot_encode(x):\n",
    "    \"\"\"\n",
    "    One hot encode a list of sample labels. Return a one-hot encoded vector for each label.\n",
    "    : x: List of sample Labels\n",
    "    : return: Numpy array of one-hot encoded labels\n",
    "    \"\"\"\n",
    "    # TODO: Implement Function \n",
    "    return np.eye(10)[x]\n",
    "\n",
    "\"\"\"\n",
    "DON'T MODIFY ANYTHING IN THIS CELL THAT IS BELOW THIS LINE\n",
    "\"\"\"\n",
    "tests.test_one_hot_encode(one_hot_encode)"
   ]
  },
  {
   "cell_type": "markdown",
   "metadata": {},
   "source": [
    "### Randomize Data\n",
    "As you saw from exploring the data above, the order of the samples are randomized.  It doesn't hurt to randomize it again, but you don't need to for this dataset."
   ]
  },
  {
   "cell_type": "markdown",
   "metadata": {},
   "source": [
    "## Preprocess all the data and save it\n",
    "Running the code cell below will preprocess all the CIFAR-10 data and save it to file. The code below also uses 10% of the training data for validation."
   ]
  },
  {
   "cell_type": "code",
   "execution_count": 7,
   "metadata": {},
   "outputs": [],
   "source": [
    "\"\"\"\n",
    "DON'T MODIFY ANYTHING IN THIS CELL\n",
    "\"\"\"\n",
    "# Preprocess Training, Validation, and Testing Data\n",
    "helper.preprocess_and_save_data(cifar10_dataset_folder_path, normalize, one_hot_encode)"
   ]
  },
  {
   "cell_type": "markdown",
   "metadata": {},
   "source": [
    "# Check Point\n",
    "This is your first checkpoint.  If you ever decide to come back to this notebook or have to restart the notebook, you can start from here.  The preprocessed data has been saved to disk."
   ]
  },
  {
   "cell_type": "code",
   "execution_count": 8,
   "metadata": {},
   "outputs": [],
   "source": [
    "\"\"\"\n",
    "DON'T MODIFY ANYTHING IN THIS CELL\n",
    "\"\"\"\n",
    "import pickle\n",
    "import problem_unittests as tests\n",
    "import helper\n",
    "\n",
    "# Load the Preprocessed Validation data\n",
    "valid_features, valid_labels = pickle.load(open('preprocess_validation.p', mode='rb'))"
   ]
  },
  {
   "cell_type": "markdown",
   "metadata": {},
   "source": [
    "## Build the network\n",
    "For the neural network, you'll build each layer into a function.  Most of the code you've seen has been outside of functions. To test your code more thoroughly, we require that you put each layer in a function.  This allows us to give you better feedback and test for simple mistakes using our unittests before you submit your project.\n",
    "\n",
    ">**Note:** If you're finding it hard to dedicate enough time for this course each week, we've provided a small shortcut to this part of the project. In the next couple of problems, you'll have the option to use classes from the [TensorFlow Layers](https://www.tensorflow.org/api_docs/python/tf/layers) or [TensorFlow Layers (contrib)](https://www.tensorflow.org/api_guides/python/contrib.layers) packages to build each layer, except the layers you build in the \"Convolutional and Max Pooling Layer\" section.  TF Layers is similar to Keras's and TFLearn's abstraction to layers, so it's easy to pickup.\n",
    "\n",
    ">However, if you would like to get the most out of this course, try to solve all the problems _without_ using anything from the TF Layers packages. You **can** still use classes from other packages that happen to have the same name as ones you find in TF Layers! For example, instead of using the TF Layers version of the `conv2d` class, [tf.layers.conv2d](https://www.tensorflow.org/api_docs/python/tf/layers/conv2d), you would want to use the TF Neural Network version of `conv2d`, [tf.nn.conv2d](https://www.tensorflow.org/api_docs/python/tf/nn/conv2d). \n",
    "\n",
    "Let's begin!\n",
    "\n",
    "### Input\n",
    "The neural network needs to read the image data, one-hot encoded labels, and dropout keep probability. Implement the following functions\n",
    "* Implement `neural_net_image_input`\n",
    " * Return a [TF Placeholder](https://www.tensorflow.org/api_docs/python/tf/placeholder)\n",
    " * Set the shape using `image_shape` with batch size set to `None`.\n",
    " * Name the TensorFlow placeholder \"x\" using the TensorFlow `name` parameter in the [TF Placeholder](https://www.tensorflow.org/api_docs/python/tf/placeholder).\n",
    "* Implement `neural_net_label_input`\n",
    " * Return a [TF Placeholder](https://www.tensorflow.org/api_docs/python/tf/placeholder)\n",
    " * Set the shape using `n_classes` with batch size set to `None`.\n",
    " * Name the TensorFlow placeholder \"y\" using the TensorFlow `name` parameter in the [TF Placeholder](https://www.tensorflow.org/api_docs/python/tf/placeholder).\n",
    "* Implement `neural_net_keep_prob_input`\n",
    " * Return a [TF Placeholder](https://www.tensorflow.org/api_docs/python/tf/placeholder) for dropout keep probability.\n",
    " * Name the TensorFlow placeholder \"keep_prob\" using the TensorFlow `name` parameter in the [TF Placeholder](https://www.tensorflow.org/api_docs/python/tf/placeholder).\n",
    "\n",
    "These names will be used at the end of the project to load your saved model.\n",
    "\n",
    "Note: `None` for shapes in TensorFlow allow for a dynamic size."
   ]
  },
  {
   "cell_type": "code",
   "execution_count": 9,
   "metadata": {},
   "outputs": [
    {
     "name": "stdout",
     "output_type": "stream",
     "text": [
      "Image Input Tests Passed.\n",
      "Label Input Tests Passed.\n",
      "Keep Prob Tests Passed.\n"
     ]
    }
   ],
   "source": [
    "import tensorflow as tf\n",
    "\n",
    "def neural_net_image_input(image_shape):\n",
    "    \"\"\"\n",
    "    Return a Tensor for a batch of image input\n",
    "    : image_shape: Shape of the images\n",
    "    : return: Tensor for image input.\n",
    "    \"\"\"\n",
    "    # TODO: Implement Function\n",
    "    return tf.placeholder(tf.float32, shape=(None, image_shape[0], image_shape[1], image_shape[2]), name='x')\n",
    "\n",
    "\n",
    "def neural_net_label_input(n_classes):\n",
    "    \"\"\"\n",
    "    Return a Tensor for a batch of label input\n",
    "    : n_classes: Number of classes\n",
    "    : return: Tensor for label input.\n",
    "    \"\"\"\n",
    "    # TODO: Implement Function\n",
    "    return tf.placeholder(tf.float32, shape=(None, n_classes), name='y')\n",
    "\n",
    "\n",
    "def neural_net_keep_prob_input():\n",
    "    \"\"\"\n",
    "    Return a Tensor for keep probability\n",
    "    : return: Tensor for keep probability.\n",
    "    \"\"\"\n",
    "    # TODO: Implement Function\n",
    "    return tf.placeholder(tf.float32, name='keep_prob')\n",
    "\n",
    "\n",
    "\"\"\"\n",
    "DON'T MODIFY ANYTHING IN THIS CELL THAT IS BELOW THIS LINE\n",
    "\"\"\"\n",
    "tf.reset_default_graph()\n",
    "tests.test_nn_image_inputs(neural_net_image_input)\n",
    "tests.test_nn_label_inputs(neural_net_label_input)\n",
    "tests.test_nn_keep_prob_inputs(neural_net_keep_prob_input)"
   ]
  },
  {
   "cell_type": "markdown",
   "metadata": {},
   "source": [
    "### Convolution and Max Pooling Layer\n",
    "Convolution layers have a lot of success with images. For this code cell, you should implement the function `conv2d_maxpool` to apply convolution then max pooling:\n",
    "* Create the weight and bias using `conv_ksize`, `conv_num_outputs` and the shape of `x_tensor`.\n",
    "* Apply a convolution to `x_tensor` using weight and `conv_strides`.\n",
    " * We recommend you use same padding, but you're welcome to use any padding.\n",
    "* Add bias\n",
    "* Add a nonlinear activation to the convolution.\n",
    "* Apply Max Pooling using `pool_ksize` and `pool_strides`.\n",
    " * We recommend you use same padding, but you're welcome to use any padding.\n",
    "\n",
    "**Note:** You **can't** use [TensorFlow Layers](https://www.tensorflow.org/api_docs/python/tf/layers) or [TensorFlow Layers (contrib)](https://www.tensorflow.org/api_guides/python/contrib.layers) for **this** layer, but you can still use TensorFlow's [Neural Network](https://www.tensorflow.org/api_docs/python/tf/nn) package. You may still use the shortcut option for all the **other** layers."
   ]
  },
  {
   "cell_type": "code",
   "execution_count": 10,
   "metadata": {
    "scrolled": false
   },
   "outputs": [
    {
     "name": "stdout",
     "output_type": "stream",
     "text": [
      "Tests Passed\n"
     ]
    }
   ],
   "source": [
    "def conv2d_maxpool(x_tensor, conv_num_outputs, conv_ksize, conv_strides, pool_ksize, pool_strides):\n",
    "    \"\"\"\n",
    "    Apply convolution then max pooling to x_tensor\n",
    "    :param x_tensor: TensorFlow Tensor\n",
    "    :param conv_num_outputs: Number of outputs for the convolutional layer\n",
    "    :param conv_ksize: kernal size 2-D Tuple for the convolutional layer\n",
    "    :param conv_strides: Stride 2-D Tuple for convolution\n",
    "    :param pool_ksize: kernal size 2-D Tuple for pool\n",
    "    :param pool_strides: Stride 2-D Tuple for pool\n",
    "    : return: A tensor that represents convolution and max pooling of x_tensor\n",
    "    \"\"\"\n",
    "    #print(x_tensor)\n",
    "    # TODO: Implement Function\n",
    "    channel_num = x_tensor.get_shape().as_list()[3]\n",
    "    #print(channel_num)\n",
    "    weight = tf.Variable(tf.truncated_normal([conv_ksize[0], conv_ksize[1], channel_num, conv_num_outputs], stddev=0.1))\n",
    "    #print(weight)\n",
    "    bias = tf.Variable(tf.zeros(conv_num_outputs))\n",
    "    #print(bias)\n",
    "    \n",
    "    #print([1, conv_strides[0], conv_strides[1], 1])\n",
    "                         \n",
    "    conv_layer = tf.nn.conv2d(x_tensor, weight, [1, conv_strides[0], conv_strides[1], 1], padding='SAME')\n",
    "    conv_layer = tf.nn.bias_add(conv_layer, bias)\n",
    "    conv_layer = tf.nn.relu(conv_layer)\n",
    "    \n",
    "    conv_layer = tf.nn.max_pool(conv_layer, [1, pool_ksize[0], pool_ksize[1], 1], [1, pool_strides[0], pool_strides[1], 1], padding='SAME')\n",
    "    \n",
    "    return conv_layer\n",
    "\n",
    "\n",
    "\"\"\"\n",
    "DON'T MODIFY ANYTHING IN THIS CELL THAT IS BELOW THIS LINE\n",
    "\"\"\"\n",
    "tests.test_con_pool(conv2d_maxpool)"
   ]
  },
  {
   "cell_type": "markdown",
   "metadata": {},
   "source": [
    "### Flatten Layer\n",
    "Implement the `flatten` function to change the dimension of `x_tensor` from a 4-D tensor to a 2-D tensor.  The output should be the shape (*Batch Size*, *Flattened Image Size*). Shortcut option: you can use classes from the [TensorFlow Layers](https://www.tensorflow.org/api_docs/python/tf/layers) or [TensorFlow Layers (contrib)](https://www.tensorflow.org/api_guides/python/contrib.layers) packages for this layer. For more of a challenge, only use other TensorFlow packages."
   ]
  },
  {
   "cell_type": "code",
   "execution_count": 11,
   "metadata": {},
   "outputs": [
    {
     "name": "stdout",
     "output_type": "stream",
     "text": [
      "Tests Passed\n"
     ]
    }
   ],
   "source": [
    "def flatten(x_tensor):\n",
    "    \"\"\"\n",
    "    Flatten x_tensor to (Batch Size, Flattened Image Size)\n",
    "    : x_tensor: A tensor of size (Batch Size, ...), where ... are the image dimensions.\n",
    "    : return: A tensor of size (Batch Size, Flattened Image Size).\n",
    "    \"\"\"\n",
    "    # TODO: Implement Function\n",
    "    #print(x_tensor)\n",
    "    input_shape = x_tensor.get_shape().as_list()\n",
    "    \n",
    "    return tf.reshape(x_tensor, [-1, input_shape[1]*input_shape[2]*input_shape[3]])\n",
    "    #return tf.contrib.layers.flatten(x_tensor)\n",
    "\n",
    "\n",
    "\"\"\"\n",
    "DON'T MODIFY ANYTHING IN THIS CELL THAT IS BELOW THIS LINE\n",
    "\"\"\"\n",
    "tests.test_flatten(flatten)"
   ]
  },
  {
   "cell_type": "markdown",
   "metadata": {},
   "source": [
    "### Fully-Connected Layer\n",
    "Implement the `fully_conn` function to apply a fully connected layer to `x_tensor` with the shape (*Batch Size*, *num_outputs*). Shortcut option: you can use classes from the [TensorFlow Layers](https://www.tensorflow.org/api_docs/python/tf/layers) or [TensorFlow Layers (contrib)](https://www.tensorflow.org/api_guides/python/contrib.layers) packages for this layer. For more of a challenge, only use other TensorFlow packages."
   ]
  },
  {
   "cell_type": "code",
   "execution_count": 12,
   "metadata": {},
   "outputs": [
    {
     "name": "stdout",
     "output_type": "stream",
     "text": [
      "Tests Passed\n"
     ]
    }
   ],
   "source": [
    "def fully_conn(x_tensor, num_outputs):\n",
    "    \"\"\"\n",
    "    Apply a fully connected layer to x_tensor using weight and bias\n",
    "    : x_tensor: A 2-D tensor where the first dimension is batch size.\n",
    "    : num_outputs: The number of output that the new tensor should be.\n",
    "    : return: A 2-D tensor where the second dimension is num_outputs.\n",
    "    \"\"\"\n",
    "    # TODO: Implement Function\n",
    "    #print(x_tensor)\n",
    "    batch_size = x_tensor.get_shape().as_list()[-1]\n",
    "    #print(batch_size)\n",
    "    weight = tf.Variable(tf.truncated_normal([batch_size, num_outputs], stddev=0.1))\n",
    "    bias = tf.Variable(tf.zeros(num_outputs))\n",
    "    \n",
    "    fc = tf.add(tf.matmul(x_tensor, weight), bias)\n",
    "    fc = tf.nn.relu(fc)\n",
    "    \n",
    "    return fc\n",
    "\n",
    "\n",
    "\"\"\"\n",
    "DON'T MODIFY ANYTHING IN THIS CELL THAT IS BELOW THIS LINE\n",
    "\"\"\"\n",
    "tests.test_fully_conn(fully_conn)"
   ]
  },
  {
   "cell_type": "markdown",
   "metadata": {},
   "source": [
    "### Output Layer\n",
    "Implement the `output` function to apply a fully connected layer to `x_tensor` with the shape (*Batch Size*, *num_outputs*). Shortcut option: you can use classes from the [TensorFlow Layers](https://www.tensorflow.org/api_docs/python/tf/layers) or [TensorFlow Layers (contrib)](https://www.tensorflow.org/api_guides/python/contrib.layers) packages for this layer. For more of a challenge, only use other TensorFlow packages.\n",
    "\n",
    "**Note:** Activation, softmax, or cross entropy should **not** be applied to this."
   ]
  },
  {
   "cell_type": "code",
   "execution_count": 13,
   "metadata": {},
   "outputs": [
    {
     "name": "stdout",
     "output_type": "stream",
     "text": [
      "(?, 128)\n",
      "Tests Passed\n"
     ]
    }
   ],
   "source": [
    "def output(x_tensor, num_outputs):\n",
    "    \"\"\"\n",
    "    Apply a output layer to x_tensor using weight and bias\n",
    "    : x_tensor: A 2-D tensor where the first dimension is batch size.\n",
    "    : num_outputs: The number of output that the new tensor should be.\n",
    "    : return: A 2-D tensor where the second dimension is num_outputs.\n",
    "    \"\"\"\n",
    "    # TODO: Implement Function\n",
    "    print(x_tensor.get_shape())\n",
    "    batch_size = x_tensor.get_shape().as_list()[-1]\n",
    "    weight = tf.Variable(tf.truncated_normal([batch_size, num_outputs], stddev=0.1))\n",
    "    bias = tf.Variable(tf.zeros(num_outputs))\n",
    "    \n",
    "    output_layer = tf.add(tf.matmul(x_tensor, weight), bias)\n",
    "    \n",
    "    return output_layer\n",
    "\n",
    "\n",
    "\"\"\"\n",
    "DON'T MODIFY ANYTHING IN THIS CELL THAT IS BELOW THIS LINE\n",
    "\"\"\"\n",
    "tests.test_output(output)"
   ]
  },
  {
   "cell_type": "markdown",
   "metadata": {},
   "source": [
    "### Create Convolutional Model\n",
    "Implement the function `conv_net` to create a convolutional neural network model. The function takes in a batch of images, `x`, and outputs logits.  Use the layers you created above to create this model:\n",
    "\n",
    "* Apply 1, 2, or 3 Convolution and Max Pool layers\n",
    "* Apply a Flatten Layer\n",
    "* Apply 1, 2, or 3 Fully Connected Layers\n",
    "* Apply an Output Layer\n",
    "* Return the output\n",
    "* Apply [TensorFlow's Dropout](https://www.tensorflow.org/api_docs/python/tf/nn/dropout) to one or more layers in the model using `keep_prob`. "
   ]
  },
  {
   "cell_type": "code",
   "execution_count": 14,
   "metadata": {},
   "outputs": [
    {
     "name": "stdout",
     "output_type": "stream",
     "text": [
      "(?, 64)\n",
      "(?, 64)\n",
      "Neural Network Built!\n"
     ]
    }
   ],
   "source": [
    "def conv_net(x, keep_prob):\n",
    "    \"\"\"\n",
    "    Create a convolutional neural network model\n",
    "    : x: Placeholder tensor that holds image data.\n",
    "    : keep_prob: Placeholder tensor that hold dropout keep probability.\n",
    "    : return: Tensor that represents logits\n",
    "    \"\"\"\n",
    "    # TODO: Apply 1, 2, or 3 Convolution and Max Pool layers\n",
    "    #    Play around with different number of outputs, kernel size and stride\n",
    "    # Function Definition from Above:\n",
    "    #    conv2d_maxpool(x_tensor, conv_num_outputs, conv_ksize, conv_strides, pool_ksize, pool_strides)\n",
    "    conv_tensor = conv2d_maxpool(x, 32, (4, 4), (1, 1), (2, 2), (2, 2))\n",
    "    conv_tensor = conv2d_maxpool(conv_tensor, 64, (4, 4), (1, 1), (2, 2), (2, 2))\n",
    "    \n",
    "    # TODO: Apply a Flatten Layer\n",
    "    # Function Definition from Above:\n",
    "    #   flatten(x_tensor)\n",
    "    flatten_tensor = flatten(conv_tensor)\n",
    "\n",
    "    # TODO: Apply 1, 2, or 3 Fully Connected Layers\n",
    "    #    Play around with different number of outputs\n",
    "    # Function Definition from Above:\n",
    "    #   fully_conn(x_tensor, num_outputs)\n",
    "    full_conn_tensor = fully_conn(flatten_tensor, 64)\n",
    "    full_conn_tensor = tf.nn.dropout(full_conn_tensor, keep_prob)\n",
    "    \n",
    "    # TODO: Apply an Output Layer\n",
    "    #    Set this to the number of classes\n",
    "    # Function Definition from Above:\n",
    "    #   output(x_tensor, num_outputs)\n",
    "    output_tensor = output(full_conn_tensor, 10)\n",
    "    \n",
    "    # TODO: return output\n",
    "    return output_tensor\n",
    "\n",
    "\n",
    "\"\"\"\n",
    "DON'T MODIFY ANYTHING IN THIS CELL THAT IS BELOW THIS LINE\n",
    "\"\"\"\n",
    "\n",
    "##############################\n",
    "## Build the Neural Network ##\n",
    "##############################\n",
    "\n",
    "# Remove previous weights, bias, inputs, etc..\n",
    "tf.reset_default_graph()\n",
    "\n",
    "# Inputs\n",
    "x = neural_net_image_input((32, 32, 3))\n",
    "y = neural_net_label_input(10)\n",
    "keep_prob = neural_net_keep_prob_input()\n",
    "\n",
    "# Model\n",
    "logits = conv_net(x, keep_prob)\n",
    "\n",
    "# Name logits Tensor, so that is can be loaded from disk after training\n",
    "logits = tf.identity(logits, name='logits')\n",
    "\n",
    "# Loss and Optimizer\n",
    "cost = tf.reduce_mean(tf.nn.softmax_cross_entropy_with_logits(logits=logits, labels=y))\n",
    "optimizer = tf.train.AdamOptimizer().minimize(cost)\n",
    "\n",
    "# Accuracy\n",
    "correct_pred = tf.equal(tf.argmax(logits, 1), tf.argmax(y, 1))\n",
    "accuracy = tf.reduce_mean(tf.cast(correct_pred, tf.float32), name='accuracy')\n",
    "\n",
    "tests.test_conv_net(conv_net)"
   ]
  },
  {
   "cell_type": "markdown",
   "metadata": {},
   "source": [
    "## Train the Neural Network\n",
    "### Single Optimization\n",
    "Implement the function `train_neural_network` to do a single optimization.  The optimization should use `optimizer` to optimize in `session` with a `feed_dict` of the following:\n",
    "* `x` for image input\n",
    "* `y` for labels\n",
    "* `keep_prob` for keep probability for dropout\n",
    "\n",
    "This function will be called for each batch, so `tf.global_variables_initializer()` has already been called.\n",
    "\n",
    "Note: Nothing needs to be returned. This function is only optimizing the neural network."
   ]
  },
  {
   "cell_type": "code",
   "execution_count": 15,
   "metadata": {},
   "outputs": [
    {
     "name": "stdout",
     "output_type": "stream",
     "text": [
      "Tests Passed\n"
     ]
    }
   ],
   "source": [
    "def train_neural_network(session, optimizer, keep_probability, feature_batch, label_batch):\n",
    "    \"\"\"\n",
    "    Optimize the session on a batch of images and labels\n",
    "    : session: Current TensorFlow session\n",
    "    : optimizer: TensorFlow optimizer function\n",
    "    : keep_probability: keep probability\n",
    "    : feature_batch: Batch of Numpy image data\n",
    "    : label_batch: Batch of Numpy label data\n",
    "    \"\"\"\n",
    "    # TODO: Implement Function\n",
    "    session.run(optimizer, feed_dict={x:feature_batch, y:label_batch, keep_prob:keep_probability})\n",
    "    \n",
    "\n",
    "\"\"\"\n",
    "DON'T MODIFY ANYTHING IN THIS CELL THAT IS BELOW THIS LINE\n",
    "\"\"\"\n",
    "tests.test_train_nn(train_neural_network)"
   ]
  },
  {
   "cell_type": "markdown",
   "metadata": {},
   "source": [
    "### Show Stats\n",
    "Implement the function `print_stats` to print loss and validation accuracy.  Use the global variables `valid_features` and `valid_labels` to calculate validation accuracy.  Use a keep probability of `1.0` to calculate the loss and validation accuracy."
   ]
  },
  {
   "cell_type": "code",
   "execution_count": 16,
   "metadata": {},
   "outputs": [],
   "source": [
    "def print_stats(session, feature_batch, label_batch, cost, accuracy):\n",
    "    \"\"\"\n",
    "    Print information about loss and validation accuracy\n",
    "    : session: Current TensorFlow session\n",
    "    : feature_batch: Batch of Numpy image data\n",
    "    : label_batch: Batch of Numpy label data\n",
    "    : cost: TensorFlow cost function\n",
    "    : accuracy: TensorFlow accuracy function\n",
    "    \"\"\"\n",
    "    # TODO: Implement Function\n",
    "    valid_acc = session.run(accuracy, feed_dict={x: valid_features,y: valid_labels,keep_prob: 1.0})\n",
    "    loss = session.run(cost, feed_dict={x: feature_batch, y: label_batch, keep_prob: 1.0})\n",
    "    \n",
    "    print(\"valid_acc:{} loss:{}\".format(valid_acc, loss))"
   ]
  },
  {
   "cell_type": "markdown",
   "metadata": {},
   "source": [
    "### Hyperparameters\n",
    "Tune the following parameters:\n",
    "* Set `epochs` to the number of iterations until the network stops learning or start overfitting\n",
    "* Set `batch_size` to the highest number that your machine has memory for.  Most people set them to common sizes of memory:\n",
    " * 64\n",
    " * 128\n",
    " * 256\n",
    " * ...\n",
    "* Set `keep_probability` to the probability of keeping a node using dropout"
   ]
  },
  {
   "cell_type": "code",
   "execution_count": 17,
   "metadata": {},
   "outputs": [],
   "source": [
    "# TODO: Tune Parameters\n",
    "epochs = 50\n",
    "batch_size = 128\n",
    "keep_probability = 0.5"
   ]
  },
  {
   "cell_type": "markdown",
   "metadata": {},
   "source": [
    "### Train on a Single CIFAR-10 Batch\n",
    "Instead of training the neural network on all the CIFAR-10 batches of data, let's use a single batch. This should save time while you iterate on the model to get a better accuracy.  Once the final validation accuracy is 50% or greater, run the model on all the data in the next section."
   ]
  },
  {
   "cell_type": "code",
   "execution_count": 18,
   "metadata": {},
   "outputs": [
    {
     "name": "stdout",
     "output_type": "stream",
     "text": [
      "Checking the Training on a Single Batch...\n",
      "Epoch  1, CIFAR-10 Batch 1:  valid_acc:0.3019999861717224 loss:2.1564502716064453\n",
      "Epoch  2, CIFAR-10 Batch 1:  valid_acc:0.3662000000476837 loss:1.935927152633667\n",
      "Epoch  3, CIFAR-10 Batch 1:  valid_acc:0.421999990940094 loss:1.8104139566421509\n",
      "Epoch  4, CIFAR-10 Batch 1:  valid_acc:0.43860000371932983 loss:1.6897099018096924\n",
      "Epoch  5, CIFAR-10 Batch 1:  valid_acc:0.4652000069618225 loss:1.602834701538086\n",
      "Epoch  6, CIFAR-10 Batch 1:  valid_acc:0.44859999418258667 loss:1.5552161931991577\n",
      "Epoch  7, CIFAR-10 Batch 1:  valid_acc:0.4837999939918518 loss:1.454733967781067\n",
      "Epoch  8, CIFAR-10 Batch 1:  valid_acc:0.49779999256134033 loss:1.3277403116226196\n",
      "Epoch  9, CIFAR-10 Batch 1:  valid_acc:0.47920000553131104 loss:1.3075999021530151\n",
      "Epoch 10, CIFAR-10 Batch 1:  valid_acc:0.5131999850273132 loss:1.2049129009246826\n",
      "Epoch 11, CIFAR-10 Batch 1:  valid_acc:0.5070000290870667 loss:1.1647026538848877\n",
      "Epoch 12, CIFAR-10 Batch 1:  valid_acc:0.5008000135421753 loss:1.0494320392608643\n",
      "Epoch 13, CIFAR-10 Batch 1:  valid_acc:0.5357999801635742 loss:1.0222740173339844\n",
      "Epoch 14, CIFAR-10 Batch 1:  valid_acc:0.5547999739646912 loss:0.9641819000244141\n",
      "Epoch 15, CIFAR-10 Batch 1:  valid_acc:0.5511999726295471 loss:0.9080570936203003\n",
      "Epoch 16, CIFAR-10 Batch 1:  valid_acc:0.5691999793052673 loss:0.8908244967460632\n",
      "Epoch 17, CIFAR-10 Batch 1:  valid_acc:0.5559999942779541 loss:0.8489271998405457\n",
      "Epoch 18, CIFAR-10 Batch 1:  valid_acc:0.5608000159263611 loss:0.7623091340065002\n",
      "Epoch 19, CIFAR-10 Batch 1:  valid_acc:0.5685999989509583 loss:0.7175264358520508\n",
      "Epoch 20, CIFAR-10 Batch 1:  valid_acc:0.571399986743927 loss:0.6857007741928101\n",
      "Epoch 21, CIFAR-10 Batch 1:  valid_acc:0.5690000057220459 loss:0.6231849789619446\n",
      "Epoch 22, CIFAR-10 Batch 1:  valid_acc:0.5702000260353088 loss:0.6363351345062256\n",
      "Epoch 23, CIFAR-10 Batch 1:  valid_acc:0.5720000267028809 loss:0.5867332816123962\n",
      "Epoch 24, CIFAR-10 Batch 1:  valid_acc:0.578000009059906 loss:0.5333000421524048\n",
      "Epoch 25, CIFAR-10 Batch 1:  valid_acc:0.5799999833106995 loss:0.5589072108268738\n",
      "Epoch 26, CIFAR-10 Batch 1:  valid_acc:0.5834000110626221 loss:0.5121870040893555\n",
      "Epoch 27, CIFAR-10 Batch 1:  valid_acc:0.5627999901771545 loss:0.4817282557487488\n",
      "Epoch 28, CIFAR-10 Batch 1:  valid_acc:0.5938000082969666 loss:0.4529569745063782\n",
      "Epoch 29, CIFAR-10 Batch 1:  valid_acc:0.5867999792098999 loss:0.4253196716308594\n",
      "Epoch 30, CIFAR-10 Batch 1:  valid_acc:0.5763999819755554 loss:0.3841879963874817\n",
      "Epoch 31, CIFAR-10 Batch 1:  valid_acc:0.5663999915122986 loss:0.4006896913051605\n",
      "Epoch 32, CIFAR-10 Batch 1:  valid_acc:0.5849999785423279 loss:0.324055552482605\n",
      "Epoch 33, CIFAR-10 Batch 1:  valid_acc:0.5781999826431274 loss:0.33985456824302673\n",
      "Epoch 34, CIFAR-10 Batch 1:  valid_acc:0.5867999792098999 loss:0.3623157739639282\n",
      "Epoch 35, CIFAR-10 Batch 1:  valid_acc:0.6018000245094299 loss:0.29996854066848755\n",
      "Epoch 36, CIFAR-10 Batch 1:  valid_acc:0.5853999853134155 loss:0.3296092450618744\n",
      "Epoch 37, CIFAR-10 Batch 1:  valid_acc:0.597599983215332 loss:0.2821848392486572\n",
      "Epoch 38, CIFAR-10 Batch 1:  valid_acc:0.5929999947547913 loss:0.2844657897949219\n",
      "Epoch 39, CIFAR-10 Batch 1:  valid_acc:0.6010000109672546 loss:0.2673898935317993\n",
      "Epoch 40, CIFAR-10 Batch 1:  valid_acc:0.5898000001907349 loss:0.25434213876724243\n",
      "Epoch 41, CIFAR-10 Batch 1:  valid_acc:0.5992000102996826 loss:0.24644847214221954\n",
      "Epoch 42, CIFAR-10 Batch 1:  valid_acc:0.5849999785423279 loss:0.2167961299419403\n",
      "Epoch 43, CIFAR-10 Batch 1:  valid_acc:0.5943999886512756 loss:0.2211160659790039\n",
      "Epoch 44, CIFAR-10 Batch 1:  valid_acc:0.5979999899864197 loss:0.18819482624530792\n",
      "Epoch 45, CIFAR-10 Batch 1:  valid_acc:0.5924000144004822 loss:0.1836491823196411\n",
      "Epoch 46, CIFAR-10 Batch 1:  valid_acc:0.5863999724388123 loss:0.17713335156440735\n",
      "Epoch 47, CIFAR-10 Batch 1:  valid_acc:0.5997999906539917 loss:0.18306073546409607\n",
      "Epoch 48, CIFAR-10 Batch 1:  valid_acc:0.5920000076293945 loss:0.15100660920143127\n",
      "Epoch 49, CIFAR-10 Batch 1:  valid_acc:0.5766000151634216 loss:0.17890267074108124\n",
      "Epoch 50, CIFAR-10 Batch 1:  valid_acc:0.5953999757766724 loss:0.16704708337783813\n"
     ]
    }
   ],
   "source": [
    "\"\"\"\n",
    "DON'T MODIFY ANYTHING IN THIS CELL\n",
    "\"\"\"\n",
    "print('Checking the Training on a Single Batch...')\n",
    "with tf.Session() as sess:\n",
    "    # Initializing the variables\n",
    "    sess.run(tf.global_variables_initializer())\n",
    "    \n",
    "    # Training cycle\n",
    "    for epoch in range(epochs):\n",
    "        batch_i = 1\n",
    "        for batch_features, batch_labels in helper.load_preprocess_training_batch(batch_i, batch_size):\n",
    "            train_neural_network(sess, optimizer, keep_probability, batch_features, batch_labels)\n",
    "        print('Epoch {:>2}, CIFAR-10 Batch {}:  '.format(epoch + 1, batch_i), end='')\n",
    "        print_stats(sess, batch_features, batch_labels, cost, accuracy)"
   ]
  },
  {
   "cell_type": "markdown",
   "metadata": {},
   "source": [
    "### Fully Train the Model\n",
    "Now that you got a good accuracy with a single CIFAR-10 batch, try it with all five batches."
   ]
  },
  {
   "cell_type": "code",
   "execution_count": 19,
   "metadata": {
    "scrolled": false
   },
   "outputs": [
    {
     "name": "stdout",
     "output_type": "stream",
     "text": [
      "Training...\n",
      "Epoch  1, CIFAR-10 Batch 1:  valid_acc:0.2847999930381775 loss:2.1239407062530518\n",
      "Epoch  1, CIFAR-10 Batch 2:  valid_acc:0.36660000681877136 loss:1.8309478759765625\n",
      "Epoch  1, CIFAR-10 Batch 3:  valid_acc:0.41019999980926514 loss:1.558239221572876\n",
      "Epoch  1, CIFAR-10 Batch 4:  valid_acc:0.4327999949455261 loss:1.6392567157745361\n",
      "Epoch  1, CIFAR-10 Batch 5:  valid_acc:0.44999998807907104 loss:1.5940386056900024\n",
      "Epoch  2, CIFAR-10 Batch 1:  valid_acc:0.4803999960422516 loss:1.704702377319336\n",
      "Epoch  2, CIFAR-10 Batch 2:  valid_acc:0.4805999994277954 loss:1.4759924411773682\n",
      "Epoch  2, CIFAR-10 Batch 3:  valid_acc:0.47679999470710754 loss:1.199143648147583\n",
      "Epoch  2, CIFAR-10 Batch 4:  valid_acc:0.5095999836921692 loss:1.4744338989257812\n",
      "Epoch  2, CIFAR-10 Batch 5:  valid_acc:0.5185999870300293 loss:1.3204089403152466\n",
      "Epoch  3, CIFAR-10 Batch 1:  valid_acc:0.520799994468689 loss:1.4156062602996826\n",
      "Epoch  3, CIFAR-10 Batch 2:  valid_acc:0.5410000085830688 loss:1.3144841194152832\n",
      "Epoch  3, CIFAR-10 Batch 3:  valid_acc:0.5339999794960022 loss:1.050844430923462\n",
      "Epoch  3, CIFAR-10 Batch 4:  valid_acc:0.5529999732971191 loss:1.292983055114746\n",
      "Epoch  3, CIFAR-10 Batch 5:  valid_acc:0.5436000227928162 loss:1.2641737461090088\n",
      "Epoch  4, CIFAR-10 Batch 1:  valid_acc:0.5609999895095825 loss:1.3052037954330444\n",
      "Epoch  4, CIFAR-10 Batch 2:  valid_acc:0.5583999752998352 loss:1.1325433254241943\n",
      "Epoch  4, CIFAR-10 Batch 3:  valid_acc:0.5613999962806702 loss:0.9283634424209595\n",
      "Epoch  4, CIFAR-10 Batch 4:  valid_acc:0.5758000016212463 loss:1.17885422706604\n",
      "Epoch  4, CIFAR-10 Batch 5:  valid_acc:0.5789999961853027 loss:1.10616934299469\n",
      "Epoch  5, CIFAR-10 Batch 1:  valid_acc:0.5978000164031982 loss:1.0948119163513184\n",
      "Epoch  5, CIFAR-10 Batch 2:  valid_acc:0.5924000144004822 loss:1.0432332754135132\n",
      "Epoch  5, CIFAR-10 Batch 3:  valid_acc:0.5861999988555908 loss:0.8523877859115601\n",
      "Epoch  5, CIFAR-10 Batch 4:  valid_acc:0.5881999731063843 loss:1.0177432298660278\n",
      "Epoch  5, CIFAR-10 Batch 5:  valid_acc:0.605400025844574 loss:1.0138320922851562\n",
      "Epoch  6, CIFAR-10 Batch 1:  valid_acc:0.6150000095367432 loss:1.000910997390747\n",
      "Epoch  6, CIFAR-10 Batch 2:  valid_acc:0.6110000014305115 loss:0.8881279826164246\n",
      "Epoch  6, CIFAR-10 Batch 3:  valid_acc:0.6061999797821045 loss:0.7597039341926575\n",
      "Epoch  6, CIFAR-10 Batch 4:  valid_acc:0.6159999966621399 loss:0.9536870121955872\n",
      "Epoch  6, CIFAR-10 Batch 5:  valid_acc:0.6093999743461609 loss:0.8778255581855774\n",
      "Epoch  7, CIFAR-10 Batch 1:  valid_acc:0.6158000230789185 loss:0.968061089515686\n",
      "Epoch  7, CIFAR-10 Batch 2:  valid_acc:0.629800021648407 loss:0.786364734172821\n",
      "Epoch  7, CIFAR-10 Batch 3:  valid_acc:0.6236000061035156 loss:0.7269926071166992\n",
      "Epoch  7, CIFAR-10 Batch 4:  valid_acc:0.6194000244140625 loss:0.8783485293388367\n",
      "Epoch  7, CIFAR-10 Batch 5:  valid_acc:0.6055999994277954 loss:0.8509641885757446\n",
      "Epoch  8, CIFAR-10 Batch 1:  valid_acc:0.6273999810218811 loss:0.8781291842460632\n",
      "Epoch  8, CIFAR-10 Batch 2:  valid_acc:0.6377999782562256 loss:0.7487443089485168\n",
      "Epoch  8, CIFAR-10 Batch 3:  valid_acc:0.6230000257492065 loss:0.6972877383232117\n",
      "Epoch  8, CIFAR-10 Batch 4:  valid_acc:0.6373999714851379 loss:0.813407301902771\n",
      "Epoch  8, CIFAR-10 Batch 5:  valid_acc:0.6362000107765198 loss:0.7690383195877075\n",
      "Epoch  9, CIFAR-10 Batch 1:  valid_acc:0.6179999709129333 loss:0.8927637338638306\n",
      "Epoch  9, CIFAR-10 Batch 2:  valid_acc:0.6413999795913696 loss:0.6302269697189331\n",
      "Epoch  9, CIFAR-10 Batch 3:  valid_acc:0.6489999890327454 loss:0.6243674159049988\n",
      "Epoch  9, CIFAR-10 Batch 4:  valid_acc:0.6507999897003174 loss:0.7578567266464233\n",
      "Epoch  9, CIFAR-10 Batch 5:  valid_acc:0.6607999801635742 loss:0.7065951228141785\n",
      "Epoch 10, CIFAR-10 Batch 1:  valid_acc:0.6448000073432922 loss:0.7127593755722046\n",
      "Epoch 10, CIFAR-10 Batch 2:  valid_acc:0.6538000106811523 loss:0.7076388597488403\n",
      "Epoch 10, CIFAR-10 Batch 3:  valid_acc:0.6439999938011169 loss:0.5836836099624634\n",
      "Epoch 10, CIFAR-10 Batch 4:  valid_acc:0.6478000283241272 loss:0.7222768664360046\n",
      "Epoch 10, CIFAR-10 Batch 5:  valid_acc:0.6538000106811523 loss:0.6304680109024048\n",
      "Epoch 11, CIFAR-10 Batch 1:  valid_acc:0.6373999714851379 loss:0.6958755254745483\n",
      "Epoch 11, CIFAR-10 Batch 2:  valid_acc:0.6579999923706055 loss:0.5995274782180786\n",
      "Epoch 11, CIFAR-10 Batch 3:  valid_acc:0.6413999795913696 loss:0.575598418712616\n",
      "Epoch 11, CIFAR-10 Batch 4:  valid_acc:0.6656000018119812 loss:0.6799713373184204\n",
      "Epoch 11, CIFAR-10 Batch 5:  valid_acc:0.6488000154495239 loss:0.6237688064575195\n",
      "Epoch 12, CIFAR-10 Batch 1:  valid_acc:0.6664000153541565 loss:0.6622249484062195\n",
      "Epoch 12, CIFAR-10 Batch 2:  valid_acc:0.6687999963760376 loss:0.5192490816116333\n",
      "Epoch 12, CIFAR-10 Batch 3:  valid_acc:0.6592000126838684 loss:0.473777711391449\n",
      "Epoch 12, CIFAR-10 Batch 4:  valid_acc:0.6678000092506409 loss:0.6069712042808533\n",
      "Epoch 12, CIFAR-10 Batch 5:  valid_acc:0.6579999923706055 loss:0.5776188969612122\n",
      "Epoch 13, CIFAR-10 Batch 1:  valid_acc:0.6621999740600586 loss:0.5740910172462463\n",
      "Epoch 13, CIFAR-10 Batch 2:  valid_acc:0.6725999712944031 loss:0.4728969633579254\n",
      "Epoch 13, CIFAR-10 Batch 3:  valid_acc:0.6664000153541565 loss:0.49521827697753906\n",
      "Epoch 13, CIFAR-10 Batch 4:  valid_acc:0.6705999970436096 loss:0.5912758111953735\n",
      "Epoch 13, CIFAR-10 Batch 5:  valid_acc:0.6693999767303467 loss:0.557075560092926\n",
      "Epoch 14, CIFAR-10 Batch 1:  valid_acc:0.6687999963760376 loss:0.5473431348800659\n",
      "Epoch 14, CIFAR-10 Batch 2:  valid_acc:0.6620000004768372 loss:0.47173500061035156\n",
      "Epoch 14, CIFAR-10 Batch 3:  valid_acc:0.6656000018119812 loss:0.3808821439743042\n",
      "Epoch 14, CIFAR-10 Batch 4:  valid_acc:0.6764000058174133 loss:0.5601941347122192\n",
      "Epoch 14, CIFAR-10 Batch 5:  valid_acc:0.6754000186920166 loss:0.5222058296203613\n",
      "Epoch 15, CIFAR-10 Batch 1:  valid_acc:0.6722000241279602 loss:0.4836231768131256\n",
      "Epoch 15, CIFAR-10 Batch 2:  valid_acc:0.6732000112533569 loss:0.4347013533115387\n",
      "Epoch 15, CIFAR-10 Batch 3:  valid_acc:0.6751999855041504 loss:0.4015200734138489\n",
      "Epoch 15, CIFAR-10 Batch 4:  valid_acc:0.6732000112533569 loss:0.5482977628707886\n",
      "Epoch 15, CIFAR-10 Batch 5:  valid_acc:0.6777999997138977 loss:0.5052444338798523\n",
      "Epoch 16, CIFAR-10 Batch 1:  valid_acc:0.6805999875068665 loss:0.48637324571609497\n",
      "Epoch 16, CIFAR-10 Batch 2:  valid_acc:0.6776000261306763 loss:0.43291157484054565\n",
      "Epoch 16, CIFAR-10 Batch 3:  valid_acc:0.678600013256073 loss:0.3576776087284088\n",
      "Epoch 16, CIFAR-10 Batch 4:  valid_acc:0.6782000064849854 loss:0.519168496131897\n",
      "Epoch 16, CIFAR-10 Batch 5:  valid_acc:0.6862000226974487 loss:0.44110623002052307\n",
      "Epoch 17, CIFAR-10 Batch 1:  valid_acc:0.6747999787330627 loss:0.44989681243896484\n",
      "Epoch 17, CIFAR-10 Batch 2:  valid_acc:0.6801999807357788 loss:0.3743128776550293\n",
      "Epoch 17, CIFAR-10 Batch 3:  valid_acc:0.6830000281333923 loss:0.30724114179611206\n",
      "Epoch 17, CIFAR-10 Batch 4:  valid_acc:0.6696000099182129 loss:0.5181869268417358\n",
      "Epoch 17, CIFAR-10 Batch 5:  valid_acc:0.6815999746322632 loss:0.3815068304538727\n",
      "Epoch 18, CIFAR-10 Batch 1:  valid_acc:0.6779999732971191 loss:0.3961579203605652\n",
      "Epoch 18, CIFAR-10 Batch 2:  valid_acc:0.6832000017166138 loss:0.38508081436157227\n",
      "Epoch 18, CIFAR-10 Batch 3:  valid_acc:0.6841999888420105 loss:0.31098803877830505\n",
      "Epoch 18, CIFAR-10 Batch 4:  valid_acc:0.6740000247955322 loss:0.48777881264686584\n",
      "Epoch 18, CIFAR-10 Batch 5:  valid_acc:0.6850000023841858 loss:0.3360227644443512\n",
      "Epoch 19, CIFAR-10 Batch 1:  valid_acc:0.6761999726295471 loss:0.3750375807285309\n",
      "Epoch 19, CIFAR-10 Batch 2:  valid_acc:0.6801999807357788 loss:0.3718990683555603\n",
      "Epoch 19, CIFAR-10 Batch 3:  valid_acc:0.6740000247955322 loss:0.35759028792381287\n",
      "Epoch 19, CIFAR-10 Batch 4:  valid_acc:0.6704000234603882 loss:0.48228779435157776\n",
      "Epoch 19, CIFAR-10 Batch 5:  valid_acc:0.6872000098228455 loss:0.34466299414634705\n",
      "Epoch 20, CIFAR-10 Batch 1:  valid_acc:0.6819999814033508 loss:0.38888511061668396\n",
      "Epoch 20, CIFAR-10 Batch 2:  valid_acc:0.6769999861717224 loss:0.32702893018722534\n",
      "Epoch 20, CIFAR-10 Batch 3:  valid_acc:0.6832000017166138 loss:0.3164587616920471\n",
      "Epoch 20, CIFAR-10 Batch 4:  valid_acc:0.6863999962806702 loss:0.4227002263069153\n"
     ]
    },
    {
     "name": "stdout",
     "output_type": "stream",
     "text": [
      "Epoch 20, CIFAR-10 Batch 5:  valid_acc:0.6940000057220459 loss:0.30747413635253906\n",
      "Epoch 21, CIFAR-10 Batch 1:  valid_acc:0.6812000274658203 loss:0.3277328312397003\n",
      "Epoch 21, CIFAR-10 Batch 2:  valid_acc:0.6845999956130981 loss:0.30954307317733765\n",
      "Epoch 21, CIFAR-10 Batch 3:  valid_acc:0.6801999807357788 loss:0.2969222366809845\n",
      "Epoch 21, CIFAR-10 Batch 4:  valid_acc:0.6880000233650208 loss:0.3679533302783966\n",
      "Epoch 21, CIFAR-10 Batch 5:  valid_acc:0.6919999718666077 loss:0.310175359249115\n",
      "Epoch 22, CIFAR-10 Batch 1:  valid_acc:0.6935999989509583 loss:0.30239206552505493\n",
      "Epoch 22, CIFAR-10 Batch 2:  valid_acc:0.6814000010490417 loss:0.292217880487442\n",
      "Epoch 22, CIFAR-10 Batch 3:  valid_acc:0.6844000220298767 loss:0.3225935101509094\n",
      "Epoch 22, CIFAR-10 Batch 4:  valid_acc:0.6890000104904175 loss:0.3649304509162903\n",
      "Epoch 22, CIFAR-10 Batch 5:  valid_acc:0.6958000063896179 loss:0.2891412079334259\n",
      "Epoch 23, CIFAR-10 Batch 1:  valid_acc:0.6952000260353088 loss:0.3126159608364105\n",
      "Epoch 23, CIFAR-10 Batch 2:  valid_acc:0.6873999834060669 loss:0.2703327536582947\n",
      "Epoch 23, CIFAR-10 Batch 3:  valid_acc:0.7024000287055969 loss:0.26955676078796387\n",
      "Epoch 23, CIFAR-10 Batch 4:  valid_acc:0.7009999752044678 loss:0.30786770582199097\n",
      "Epoch 23, CIFAR-10 Batch 5:  valid_acc:0.6962000131607056 loss:0.3059048652648926\n",
      "Epoch 24, CIFAR-10 Batch 1:  valid_acc:0.6862000226974487 loss:0.2773281931877136\n",
      "Epoch 24, CIFAR-10 Batch 2:  valid_acc:0.6952000260353088 loss:0.2233990877866745\n",
      "Epoch 24, CIFAR-10 Batch 3:  valid_acc:0.6895999908447266 loss:0.27269870042800903\n",
      "Epoch 24, CIFAR-10 Batch 4:  valid_acc:0.6908000111579895 loss:0.3147744834423065\n",
      "Epoch 24, CIFAR-10 Batch 5:  valid_acc:0.7045999765396118 loss:0.24429047107696533\n",
      "Epoch 25, CIFAR-10 Batch 1:  valid_acc:0.7008000016212463 loss:0.30494916439056396\n",
      "Epoch 25, CIFAR-10 Batch 2:  valid_acc:0.6894000172615051 loss:0.24541814625263214\n",
      "Epoch 25, CIFAR-10 Batch 3:  valid_acc:0.6887999773025513 loss:0.25880861282348633\n",
      "Epoch 25, CIFAR-10 Batch 4:  valid_acc:0.6904000043869019 loss:0.2850724756717682\n",
      "Epoch 25, CIFAR-10 Batch 5:  valid_acc:0.6913999915122986 loss:0.24576659500598907\n",
      "Epoch 26, CIFAR-10 Batch 1:  valid_acc:0.6955999732017517 loss:0.2697386145591736\n",
      "Epoch 26, CIFAR-10 Batch 2:  valid_acc:0.6876000165939331 loss:0.23234233260154724\n",
      "Epoch 26, CIFAR-10 Batch 3:  valid_acc:0.6787999868392944 loss:0.25422853231430054\n",
      "Epoch 26, CIFAR-10 Batch 4:  valid_acc:0.6919999718666077 loss:0.2804489731788635\n",
      "Epoch 26, CIFAR-10 Batch 5:  valid_acc:0.694599986076355 loss:0.24209804832935333\n",
      "Epoch 27, CIFAR-10 Batch 1:  valid_acc:0.6941999793052673 loss:0.27001768350601196\n",
      "Epoch 27, CIFAR-10 Batch 2:  valid_acc:0.6916000247001648 loss:0.19773052632808685\n",
      "Epoch 27, CIFAR-10 Batch 3:  valid_acc:0.6868000030517578 loss:0.25847309827804565\n",
      "Epoch 27, CIFAR-10 Batch 4:  valid_acc:0.699400007724762 loss:0.21184296905994415\n",
      "Epoch 27, CIFAR-10 Batch 5:  valid_acc:0.6988000273704529 loss:0.22984638810157776\n",
      "Epoch 28, CIFAR-10 Batch 1:  valid_acc:0.6962000131607056 loss:0.24408242106437683\n",
      "Epoch 28, CIFAR-10 Batch 2:  valid_acc:0.6922000050544739 loss:0.21241936087608337\n",
      "Epoch 28, CIFAR-10 Batch 3:  valid_acc:0.6894000172615051 loss:0.20844154059886932\n",
      "Epoch 28, CIFAR-10 Batch 4:  valid_acc:0.6923999786376953 loss:0.22468261420726776\n",
      "Epoch 28, CIFAR-10 Batch 5:  valid_acc:0.6973999738693237 loss:0.22030675411224365\n",
      "Epoch 29, CIFAR-10 Batch 1:  valid_acc:0.6913999915122986 loss:0.23549827933311462\n",
      "Epoch 29, CIFAR-10 Batch 2:  valid_acc:0.6941999793052673 loss:0.21961989998817444\n",
      "Epoch 29, CIFAR-10 Batch 3:  valid_acc:0.6827999949455261 loss:0.18784014880657196\n",
      "Epoch 29, CIFAR-10 Batch 4:  valid_acc:0.6940000057220459 loss:0.22241275012493134\n",
      "Epoch 29, CIFAR-10 Batch 5:  valid_acc:0.6953999996185303 loss:0.22181610763072968\n",
      "Epoch 30, CIFAR-10 Batch 1:  valid_acc:0.6944000124931335 loss:0.22134633362293243\n",
      "Epoch 30, CIFAR-10 Batch 2:  valid_acc:0.7003999948501587 loss:0.19815485179424286\n",
      "Epoch 30, CIFAR-10 Batch 3:  valid_acc:0.6883999705314636 loss:0.18008950352668762\n",
      "Epoch 30, CIFAR-10 Batch 4:  valid_acc:0.6837999820709229 loss:0.2169332057237625\n",
      "Epoch 30, CIFAR-10 Batch 5:  valid_acc:0.6904000043869019 loss:0.18788263201713562\n",
      "Epoch 31, CIFAR-10 Batch 1:  valid_acc:0.7026000022888184 loss:0.2178095132112503\n",
      "Epoch 31, CIFAR-10 Batch 2:  valid_acc:0.6985999941825867 loss:0.166588693857193\n",
      "Epoch 31, CIFAR-10 Batch 3:  valid_acc:0.6948000192642212 loss:0.17924490571022034\n",
      "Epoch 31, CIFAR-10 Batch 4:  valid_acc:0.6883999705314636 loss:0.19994688034057617\n",
      "Epoch 31, CIFAR-10 Batch 5:  valid_acc:0.6972000002861023 loss:0.18490034341812134\n",
      "Epoch 32, CIFAR-10 Batch 1:  valid_acc:0.6916000247001648 loss:0.23397016525268555\n",
      "Epoch 32, CIFAR-10 Batch 2:  valid_acc:0.7003999948501587 loss:0.16398881375789642\n",
      "Epoch 32, CIFAR-10 Batch 3:  valid_acc:0.6967999935150146 loss:0.16538381576538086\n",
      "Epoch 32, CIFAR-10 Batch 4:  valid_acc:0.6941999793052673 loss:0.1930427849292755\n",
      "Epoch 32, CIFAR-10 Batch 5:  valid_acc:0.6962000131607056 loss:0.16480982303619385\n",
      "Epoch 33, CIFAR-10 Batch 1:  valid_acc:0.7039999961853027 loss:0.18232190608978271\n",
      "Epoch 33, CIFAR-10 Batch 2:  valid_acc:0.6898000240325928 loss:0.18081629276275635\n",
      "Epoch 33, CIFAR-10 Batch 3:  valid_acc:0.6990000009536743 loss:0.15019357204437256\n",
      "Epoch 33, CIFAR-10 Batch 4:  valid_acc:0.699999988079071 loss:0.18771959841251373\n",
      "Epoch 33, CIFAR-10 Batch 5:  valid_acc:0.6988000273704529 loss:0.17662695050239563\n",
      "Epoch 34, CIFAR-10 Batch 1:  valid_acc:0.7002000212669373 loss:0.21242818236351013\n",
      "Epoch 34, CIFAR-10 Batch 2:  valid_acc:0.6959999799728394 loss:0.1859697848558426\n",
      "Epoch 34, CIFAR-10 Batch 3:  valid_acc:0.6940000057220459 loss:0.1524810492992401\n",
      "Epoch 34, CIFAR-10 Batch 4:  valid_acc:0.6934000253677368 loss:0.1687963455915451\n",
      "Epoch 34, CIFAR-10 Batch 5:  valid_acc:0.6985999941825867 loss:0.14680445194244385\n",
      "Epoch 35, CIFAR-10 Batch 1:  valid_acc:0.7035999894142151 loss:0.1739252656698227\n",
      "Epoch 35, CIFAR-10 Batch 2:  valid_acc:0.6984000205993652 loss:0.16119632124900818\n",
      "Epoch 35, CIFAR-10 Batch 3:  valid_acc:0.6944000124931335 loss:0.1257641613483429\n",
      "Epoch 35, CIFAR-10 Batch 4:  valid_acc:0.6962000131607056 loss:0.17652097344398499\n",
      "Epoch 35, CIFAR-10 Batch 5:  valid_acc:0.6909999847412109 loss:0.15474875271320343\n",
      "Epoch 36, CIFAR-10 Batch 1:  valid_acc:0.696399986743927 loss:0.15000396966934204\n",
      "Epoch 36, CIFAR-10 Batch 2:  valid_acc:0.6998000144958496 loss:0.11173628270626068\n",
      "Epoch 36, CIFAR-10 Batch 3:  valid_acc:0.7013999819755554 loss:0.1423386037349701\n",
      "Epoch 36, CIFAR-10 Batch 4:  valid_acc:0.6976000070571899 loss:0.15579871833324432\n",
      "Epoch 36, CIFAR-10 Batch 5:  valid_acc:0.7053999900817871 loss:0.12504704296588898\n",
      "Epoch 37, CIFAR-10 Batch 1:  valid_acc:0.696399986743927 loss:0.1772032082080841\n",
      "Epoch 37, CIFAR-10 Batch 2:  valid_acc:0.6970000267028809 loss:0.132139652967453\n",
      "Epoch 37, CIFAR-10 Batch 3:  valid_acc:0.6988000273704529 loss:0.13804343342781067\n",
      "Epoch 37, CIFAR-10 Batch 4:  valid_acc:0.6991999745368958 loss:0.15782375633716583\n",
      "Epoch 37, CIFAR-10 Batch 5:  valid_acc:0.699999988079071 loss:0.1357320100069046\n",
      "Epoch 38, CIFAR-10 Batch 1:  valid_acc:0.6970000267028809 loss:0.18526649475097656\n",
      "Epoch 38, CIFAR-10 Batch 2:  valid_acc:0.6909999847412109 loss:0.10838142782449722\n",
      "Epoch 38, CIFAR-10 Batch 3:  valid_acc:0.6836000084877014 loss:0.1264299750328064\n",
      "Epoch 38, CIFAR-10 Batch 4:  valid_acc:0.6931999921798706 loss:0.14552968740463257\n",
      "Epoch 38, CIFAR-10 Batch 5:  valid_acc:0.6941999793052673 loss:0.15449158847332\n",
      "Epoch 39, CIFAR-10 Batch 1:  valid_acc:0.7003999948501587 loss:0.20809626579284668\n",
      "Epoch 39, CIFAR-10 Batch 2:  valid_acc:0.6796000003814697 loss:0.1386796534061432\n",
      "Epoch 39, CIFAR-10 Batch 3:  valid_acc:0.6873999834060669 loss:0.11791801452636719\n",
      "Epoch 39, CIFAR-10 Batch 4:  valid_acc:0.6901999711990356 loss:0.12320001423358917\n",
      "Epoch 39, CIFAR-10 Batch 5:  valid_acc:0.6998000144958496 loss:0.1377641260623932\n",
      "Epoch 40, CIFAR-10 Batch 1:  valid_acc:0.6972000002861023 loss:0.2077980935573578\n",
      "Epoch 40, CIFAR-10 Batch 2:  valid_acc:0.6836000084877014 loss:0.11779270321130753\n",
      "Epoch 40, CIFAR-10 Batch 3:  valid_acc:0.6862000226974487 loss:0.12107155472040176\n"
     ]
    },
    {
     "name": "stdout",
     "output_type": "stream",
     "text": [
      "Epoch 40, CIFAR-10 Batch 4:  valid_acc:0.6955999732017517 loss:0.15042175352573395\n",
      "Epoch 40, CIFAR-10 Batch 5:  valid_acc:0.7016000151634216 loss:0.12163670361042023\n",
      "Epoch 41, CIFAR-10 Batch 1:  valid_acc:0.6886000037193298 loss:0.16602769494056702\n",
      "Epoch 41, CIFAR-10 Batch 2:  valid_acc:0.6805999875068665 loss:0.1363109052181244\n",
      "Epoch 41, CIFAR-10 Batch 3:  valid_acc:0.6958000063896179 loss:0.11023364216089249\n",
      "Epoch 41, CIFAR-10 Batch 4:  valid_acc:0.6966000199317932 loss:0.11605159193277359\n",
      "Epoch 41, CIFAR-10 Batch 5:  valid_acc:0.6991999745368958 loss:0.09570654481649399\n",
      "Epoch 42, CIFAR-10 Batch 1:  valid_acc:0.6905999779701233 loss:0.14606323838233948\n",
      "Epoch 42, CIFAR-10 Batch 2:  valid_acc:0.6876000165939331 loss:0.10171252489089966\n",
      "Epoch 42, CIFAR-10 Batch 3:  valid_acc:0.6901999711990356 loss:0.1308141052722931\n",
      "Epoch 42, CIFAR-10 Batch 4:  valid_acc:0.6944000124931335 loss:0.12774249911308289\n",
      "Epoch 42, CIFAR-10 Batch 5:  valid_acc:0.6952000260353088 loss:0.11814091354608536\n",
      "Epoch 43, CIFAR-10 Batch 1:  valid_acc:0.6976000070571899 loss:0.1588594913482666\n",
      "Epoch 43, CIFAR-10 Batch 2:  valid_acc:0.6922000050544739 loss:0.09094341099262238\n",
      "Epoch 43, CIFAR-10 Batch 3:  valid_acc:0.6923999786376953 loss:0.11338839679956436\n",
      "Epoch 43, CIFAR-10 Batch 4:  valid_acc:0.7045999765396118 loss:0.11204627901315689\n",
      "Epoch 43, CIFAR-10 Batch 5:  valid_acc:0.6998000144958496 loss:0.09608498960733414\n",
      "Epoch 44, CIFAR-10 Batch 1:  valid_acc:0.6940000057220459 loss:0.1675955057144165\n",
      "Epoch 44, CIFAR-10 Batch 2:  valid_acc:0.6966000199317932 loss:0.09156559407711029\n",
      "Epoch 44, CIFAR-10 Batch 3:  valid_acc:0.6827999949455261 loss:0.10061826556921005\n",
      "Epoch 44, CIFAR-10 Batch 4:  valid_acc:0.6995999813079834 loss:0.12153849750757217\n",
      "Epoch 44, CIFAR-10 Batch 5:  valid_acc:0.7021999955177307 loss:0.10184891521930695\n",
      "Epoch 45, CIFAR-10 Batch 1:  valid_acc:0.7021999955177307 loss:0.12160272896289825\n",
      "Epoch 45, CIFAR-10 Batch 2:  valid_acc:0.6801999807357788 loss:0.10719486325979233\n",
      "Epoch 45, CIFAR-10 Batch 3:  valid_acc:0.6988000273704529 loss:0.09051205962896347\n",
      "Epoch 45, CIFAR-10 Batch 4:  valid_acc:0.6967999935150146 loss:0.10026981681585312\n",
      "Epoch 45, CIFAR-10 Batch 5:  valid_acc:0.6988000273704529 loss:0.0996544286608696\n",
      "Epoch 46, CIFAR-10 Batch 1:  valid_acc:0.6841999888420105 loss:0.14627884328365326\n",
      "Epoch 46, CIFAR-10 Batch 2:  valid_acc:0.6858000159263611 loss:0.09692244231700897\n",
      "Epoch 46, CIFAR-10 Batch 3:  valid_acc:0.6973999738693237 loss:0.07915420085191727\n",
      "Epoch 46, CIFAR-10 Batch 4:  valid_acc:0.6953999996185303 loss:0.09394729137420654\n",
      "Epoch 46, CIFAR-10 Batch 5:  valid_acc:0.6944000124931335 loss:0.09277995675802231\n",
      "Epoch 47, CIFAR-10 Batch 1:  valid_acc:0.6967999935150146 loss:0.15054848790168762\n",
      "Epoch 47, CIFAR-10 Batch 2:  valid_acc:0.6886000037193298 loss:0.07381273806095123\n",
      "Epoch 47, CIFAR-10 Batch 3:  valid_acc:0.6886000037193298 loss:0.08351501077413559\n",
      "Epoch 47, CIFAR-10 Batch 4:  valid_acc:0.704800009727478 loss:0.11337020248174667\n",
      "Epoch 47, CIFAR-10 Batch 5:  valid_acc:0.6901999711990356 loss:0.10061180591583252\n",
      "Epoch 48, CIFAR-10 Batch 1:  valid_acc:0.6949999928474426 loss:0.14458438754081726\n",
      "Epoch 48, CIFAR-10 Batch 2:  valid_acc:0.6972000002861023 loss:0.07884767651557922\n",
      "Epoch 48, CIFAR-10 Batch 3:  valid_acc:0.6977999806404114 loss:0.08504859358072281\n",
      "Epoch 48, CIFAR-10 Batch 4:  valid_acc:0.7039999961853027 loss:0.09630473703145981\n",
      "Epoch 48, CIFAR-10 Batch 5:  valid_acc:0.6890000104904175 loss:0.10195410251617432\n",
      "Epoch 49, CIFAR-10 Batch 1:  valid_acc:0.7035999894142151 loss:0.11876527220010757\n",
      "Epoch 49, CIFAR-10 Batch 2:  valid_acc:0.6948000192642212 loss:0.06850621849298477\n",
      "Epoch 49, CIFAR-10 Batch 3:  valid_acc:0.6976000070571899 loss:0.09672665596008301\n",
      "Epoch 49, CIFAR-10 Batch 4:  valid_acc:0.698199987411499 loss:0.10072009265422821\n",
      "Epoch 49, CIFAR-10 Batch 5:  valid_acc:0.6917999982833862 loss:0.09199659526348114\n",
      "Epoch 50, CIFAR-10 Batch 1:  valid_acc:0.6948000192642212 loss:0.11590553820133209\n",
      "Epoch 50, CIFAR-10 Batch 2:  valid_acc:0.698199987411499 loss:0.07648603618144989\n",
      "Epoch 50, CIFAR-10 Batch 3:  valid_acc:0.7113999724388123 loss:0.0715857744216919\n",
      "Epoch 50, CIFAR-10 Batch 4:  valid_acc:0.7020000219345093 loss:0.10803259909152985\n",
      "Epoch 50, CIFAR-10 Batch 5:  valid_acc:0.698199987411499 loss:0.0933542475104332\n"
     ]
    }
   ],
   "source": [
    "\"\"\"\n",
    "DON'T MODIFY ANYTHING IN THIS CELL\n",
    "\"\"\"\n",
    "save_model_path = './image_classification'\n",
    "\n",
    "print('Training...')\n",
    "with tf.Session() as sess:\n",
    "    # Initializing the variables\n",
    "    sess.run(tf.global_variables_initializer())\n",
    "    \n",
    "    # Training cycle\n",
    "    for epoch in range(epochs):\n",
    "        # Loop over all batches\n",
    "        n_batches = 5\n",
    "        for batch_i in range(1, n_batches + 1):\n",
    "            for batch_features, batch_labels in helper.load_preprocess_training_batch(batch_i, batch_size):\n",
    "                train_neural_network(sess, optimizer, keep_probability, batch_features, batch_labels)\n",
    "            print('Epoch {:>2}, CIFAR-10 Batch {}:  '.format(epoch + 1, batch_i), end='')\n",
    "            print_stats(sess, batch_features, batch_labels, cost, accuracy)\n",
    "            \n",
    "    # Save Model\n",
    "    saver = tf.train.Saver()\n",
    "    save_path = saver.save(sess, save_model_path)"
   ]
  },
  {
   "cell_type": "markdown",
   "metadata": {},
   "source": [
    "# Checkpoint\n",
    "The model has been saved to disk.\n",
    "## Test Model\n",
    "Test your model against the test dataset.  This will be your final accuracy. You should have an accuracy greater than 50%. If you don't, keep tweaking the model architecture and parameters."
   ]
  },
  {
   "cell_type": "code",
   "execution_count": 20,
   "metadata": {},
   "outputs": [
    {
     "name": "stdout",
     "output_type": "stream",
     "text": [
      "INFO:tensorflow:Restoring parameters from ./image_classification\n",
      "Testing Accuracy: 0.6902689873417721\n",
      "\n"
     ]
    },
    {
     "data": {
      "image/png": "[encoded data removed]",
      "text/plain": [
       "<matplotlib.figure.Figure at 0x1c1827c1518>"
      ]
     },
     "metadata": {
      "image/png": {
       "height": 319,
       "width": 355
      }
     },
     "output_type": "display_data"
    }
   ],
   "source": [
    "\"\"\"\n",
    "DON'T MODIFY ANYTHING IN THIS CELL\n",
    "\"\"\"\n",
    "%matplotlib inline\n",
    "%config InlineBackend.figure_format = 'retina'\n",
    "\n",
    "import tensorflow as tf\n",
    "import pickle\n",
    "import helper\n",
    "import random\n",
    "\n",
    "# Set batch size if not already set\n",
    "try:\n",
    "    if batch_size:\n",
    "        pass\n",
    "except NameError:\n",
    "    batch_size = 64\n",
    "\n",
    "save_model_path = './image_classification'\n",
    "n_samples = 4\n",
    "top_n_predictions = 3\n",
    "\n",
    "def test_model():\n",
    "    \"\"\"\n",
    "    Test the saved model against the test dataset\n",
    "    \"\"\"\n",
    "\n",
    "    test_features, test_labels = pickle.load(open('preprocess_test.p', mode='rb'))\n",
    "    loaded_graph = tf.Graph()\n",
    "\n",
    "    with tf.Session(graph=loaded_graph) as sess:\n",
    "        # Load model\n",
    "        loader = tf.train.import_meta_graph(save_model_path + '.meta')\n",
    "        loader.restore(sess, save_model_path)\n",
    "\n",
    "        # Get Tensors from loaded model\n",
    "        loaded_x = loaded_graph.get_tensor_by_name('x:0')\n",
    "        loaded_y = loaded_graph.get_tensor_by_name('y:0')\n",
    "        loaded_keep_prob = loaded_graph.get_tensor_by_name('keep_prob:0')\n",
    "        loaded_logits = loaded_graph.get_tensor_by_name('logits:0')\n",
    "        loaded_acc = loaded_graph.get_tensor_by_name('accuracy:0')\n",
    "        \n",
    "        # Get accuracy in batches for memory limitations\n",
    "        test_batch_acc_total = 0\n",
    "        test_batch_count = 0\n",
    "        \n",
    "        for test_feature_batch, test_label_batch in helper.batch_features_labels(test_features, test_labels, batch_size):\n",
    "            test_batch_acc_total += sess.run(\n",
    "                loaded_acc,\n",
    "                feed_dict={loaded_x: test_feature_batch, loaded_y: test_label_batch, loaded_keep_prob: 1.0})\n",
    "            test_batch_count += 1\n",
    "\n",
    "        print('Testing Accuracy: {}\\n'.format(test_batch_acc_total/test_batch_count))\n",
    "\n",
    "        # Print Random Samples\n",
    "        random_test_features, random_test_labels = tuple(zip(*random.sample(list(zip(test_features, test_labels)), n_samples)))\n",
    "        random_test_predictions = sess.run(\n",
    "            tf.nn.top_k(tf.nn.softmax(loaded_logits), top_n_predictions),\n",
    "            feed_dict={loaded_x: random_test_features, loaded_y: random_test_labels, loaded_keep_prob: 1.0})\n",
    "        helper.display_image_predictions(random_test_features, random_test_labels, random_test_predictions)\n",
    "\n",
    "\n",
    "test_model()"
   ]
  },
  {
   "cell_type": "markdown",
   "metadata": {},
   "source": [
    "## Why 50-80% Accuracy?\n",
    "You might be wondering why you can't get an accuracy any higher. First things first, 50% isn't bad for a simple CNN.  Pure guessing would get you 10% accuracy. However, you might notice people are getting scores [well above 80%](http://rodrigob.github.io/are_we_there_yet/build/classification_datasets_results.html#43494641522d3130).  That's because we haven't taught you all there is to know about neural networks. We still need to cover a few more techniques.\n",
    "## Submitting This Project\n",
    "When submitting this project, make sure to run all the cells before saving the notebook.  Save the notebook file as \"dlnd_image_classification.ipynb\" and save it as a HTML file under \"File\" -> \"Download as\".  Include the \"helper.py\" and \"problem_unittests.py\" files in your submission."
   ]
  }
 ],
 "metadata": {
  "kernelspec": {
   "display_name": "Python 3",
   "language": "python",
   "name": "python3"
  },
  "language_info": {
   "codemirror_mode": {
    "name": "ipython",
    "version": 3
   },
   "file_extension": ".py",
   "mimetype": "text/x-python",
   "name": "python",
   "nbconvert_exporter": "python",
   "pygments_lexer": "ipython3",
   "version": "3.6.4"
  }
 },
 "nbformat": 4,
 "nbformat_minor": 1
}
